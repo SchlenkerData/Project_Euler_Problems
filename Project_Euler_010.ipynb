{
 "cells": [
  {
   "cell_type": "markdown",
   "metadata": {},
   "source": [
    "# Project Euler Problem 10\n",
    "\n",
    "The sum of the primes below 10 is 2 + 3 + 5 + 7 = 17.\n",
    "\n",
    "Find the sum of all the primes below two million."
   ]
  },
  {
   "cell_type": "code",
   "execution_count": 1,
   "metadata": {},
   "outputs": [
    {
     "name": "stdout",
     "output_type": "stream",
     "text": [
      "The sum of primes below 2,000,000 is 142913828922.\n"
     ]
    }
   ],
   "source": [
    "# We'll go back to using our trusty prime sieve from problem 7.\n",
    "\n",
    "from math import sqrt\n",
    "\n",
    "prime_list = [True]*2000000\n",
    "prime_list[0] = False\n",
    "prime_list[1] = False\n",
    "\n",
    "for i in range(2, int(sqrt(len(prime_list)))+1):\n",
    "    for j in range(2*i, len(prime_list), i):\n",
    "        prime_list[j] = False\n",
    "\n",
    "prime_sum = 0\n",
    "for k in range(len(prime_list)):\n",
    "    if prime_list[k]:\n",
    "        prime_sum += k\n",
    "        \n",
    "print(\"The sum of primes below 2,000,000 is {}.\"\n",
    "     .format(prime_sum))"
   ]
  },
  {
   "cell_type": "code",
   "execution_count": null,
   "metadata": {},
   "outputs": [],
   "source": []
  }
 ],
 "metadata": {
  "kernelspec": {
   "display_name": "Python 3",
   "language": "python",
   "name": "python3"
  },
  "language_info": {
   "codemirror_mode": {
    "name": "ipython",
    "version": 3
   },
   "file_extension": ".py",
   "mimetype": "text/x-python",
   "name": "python",
   "nbconvert_exporter": "python",
   "pygments_lexer": "ipython3",
   "version": "3.6.4"
  }
 },
 "nbformat": 4,
 "nbformat_minor": 2
}
