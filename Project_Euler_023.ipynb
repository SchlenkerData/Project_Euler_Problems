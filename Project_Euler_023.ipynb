{
 "cells": [
  {
   "cell_type": "markdown",
   "metadata": {},
   "source": [
    "# Project Euler Problem 23\n",
    "\n",
    "A perfect number is a number for which the sum of its proper divisors is exactly equal to the number. For example, the sum of the proper divisors of 28 would be 1 + 2 + 4 + 7 + 14 = 28, which means that 28 is a perfect number.\n",
    "\n",
    "A number n is called deficient if the sum of its proper divisors is less than n and it is called abundant if this sum exceeds n.\n",
    "\n",
    "As 12 is the smallest abundant number, 1 + 2 + 3 + 4 + 6 = 16, the smallest number that can be written as the sum of two abundant numbers is 24. By mathematical analysis, it can be shown that all integers greater than 28123 can be written as the sum of two abundant numbers. However, this upper limit cannot be reduced any further by analysis even though it is known that the greatest number that cannot be expressed as the sum of two abundant numbers is less than this limit.\n",
    "\n",
    "Find the sum of all the positive integers which cannot be written as the sum of two abundant numbers.\n"
   ]
  },
  {
   "cell_type": "code",
   "execution_count": 10,
   "metadata": {},
   "outputs": [
    {
     "name": "stdout",
     "output_type": "stream",
     "text": [
      "The sum is 4179871.\n"
     ]
    }
   ],
   "source": [
    "from math import sqrt, ceil\n",
    "\n",
    "# We'll recycle the divisorsum() function from problem 21.\n",
    "\n",
    "def divisorsum(k):\n",
    "    total = 0\n",
    "    for i in range(2, int(ceil(sqrt(k))) + 1):\n",
    "        if k / i == i and k % i == 0:\n",
    "            total += i\n",
    "        elif i > sqrt(k):\n",
    "            total += 0\n",
    "        elif k % i == 0:\n",
    "            total += i\n",
    "            total += k/i\n",
    "    return int(total + 1)\n",
    "    \n",
    "# abundantList will contain all abundant numbers up to 28123.\n",
    "\n",
    "abundantList = []\n",
    "for j in range(1, 28124):\n",
    "    if divisorsum(j) > j:\n",
    "        abundantList.append(j)\n",
    "\n",
    "# Now, create a list of numbers that are not the sum of\n",
    "# two abundant numbers by taking them away from the set of\n",
    "# all integers up to 28123.\n",
    "        \n",
    "resultSet = set(range(28124))\n",
    "for k in range(len(abundantList)):\n",
    "    for m in range(len(abundantList)):\n",
    "        if (abundantList[k]+abundantList[m]) in resultSet:\n",
    "            resultSet.remove(abundantList[k] + abundantList[m])\n",
    "            \n",
    "print(\"The sum is {}.\".format(sum(list(resultSet))))"
   ]
  },
  {
   "cell_type": "code",
   "execution_count": null,
   "metadata": {},
   "outputs": [],
   "source": []
  }
 ],
 "metadata": {
  "kernelspec": {
   "display_name": "Python 3",
   "language": "python",
   "name": "python3"
  },
  "language_info": {
   "codemirror_mode": {
    "name": "ipython",
    "version": 3
   },
   "file_extension": ".py",
   "mimetype": "text/x-python",
   "name": "python",
   "nbconvert_exporter": "python",
   "pygments_lexer": "ipython3",
   "version": "3.6.4"
  }
 },
 "nbformat": 4,
 "nbformat_minor": 2
}
