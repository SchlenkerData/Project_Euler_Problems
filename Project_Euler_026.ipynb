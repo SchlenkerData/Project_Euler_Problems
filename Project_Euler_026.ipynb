{
 "cells": [
  {
   "cell_type": "markdown",
   "metadata": {},
   "source": [
    "# Project Euler Problem 26\n",
    "\n",
    "A unit fraction contains 1 in the numerator. The decimal representation of the unit fractions with denominators 2 to 10 are given:\n",
    "\n",
    "    1/2\t= \t0.5\n",
    "    1/3\t= \t0.(3)\n",
    "    1/4\t= \t0.25\n",
    "    1/5\t= \t0.2\n",
    "    1/6\t= \t0.1(6)\n",
    "    1/7\t= \t0.(142857)\n",
    "    1/8\t= \t0.125\n",
    "    1/9\t= \t0.(1)\n",
    "    1/10\t= \t0.1 \n",
    "\n",
    "Where 0.1(6) means 0.166666..., and has a 1-digit recurring cycle. It can be seen that 1/7 has a 6-digit recurring cycle.\n",
    "\n",
    "Find the value of d < 1000 for which 1/d contains the longest recurring cycle in its decimal fraction part.\n"
   ]
  },
  {
   "cell_type": "code",
   "execution_count": 7,
   "metadata": {},
   "outputs": [
    {
     "name": "stdout",
     "output_type": "stream",
     "text": [
      "The value of d for which 1/d has the longest cycle is 983.\n"
     ]
    }
   ],
   "source": [
    "# We can calculate the decimal representation of a fraction through \n",
    "# long division. Store the digits in an array. To find the\n",
    "# cycle length of a decimal representation, we can compare \n",
    "# some subset of the digits to another subset of the digits that is \n",
    "# offset by a certain number. If we assume that we don't have to \n",
    "# deal with the non-repeating part after the 100th digit, \n",
    "# and we assume that there are no recurring cycles longer than \n",
    "# 200 digits, we could use a 500 element list.\n",
    "\n",
    "# For example, 1/3 = 0.3333...  The decimal representation list\n",
    "# will look something like digit_list = [3,3,3,...].  If we compare\n",
    "# digit_list[100:200] versus digit_list[101:201], they should be equal.\n",
    "# Since we only needed to check an offset of 1, the cycle is of\n",
    "# length 1.\n",
    "\n",
    "# However, for a number like 1/7 = 0.142857142857..., \n",
    "# if we compare digit_list[100:200] to digit_list[101:201],\n",
    "# they won't line up.   It's not until we have an offset of\n",
    "# six digits where they line up.  That is,\n",
    "# digit_list[100:200] = digit_list[106:206].  Thus, 1/7 has a \n",
    "# cycle of length 6.\n",
    "\n",
    "# We can the first few digits of the decimal representation because\n",
    "# that might contain a part that is non-repeating.  Beyond that\n",
    "# point, fractions will always get a repeating decimal representation,\n",
    "# even if it's just 0 repeating.\n",
    "\n",
    "# The  function decimalRep(x,n,m) calculates the decimal\n",
    "# representation for 1/x of length 2*n + m.  For the purposes of\n",
    "# this problem, m is the number of digits we ignore at the beginning,\n",
    "# and n is the max cycle length that we'll consider.\n",
    "# decimalRep(x,n,m) gets the decimal representation through\n",
    "# long division.\n",
    "\n",
    "def decimalRep(x,n,m):\n",
    "    decimal = [0]*(2*n+m)\n",
    "    k = 1\n",
    "    for i in range(2*n+m):\n",
    "        k *= 10\n",
    "        decimal[i] = int(k/x)\n",
    "        k -= x*decimal[i]\n",
    "    return decimal\n",
    "\n",
    "# checkCycleLength(y,n,m) finds the cycle length for the decimal\n",
    "# representation of 1/y by calculating the first 2*n + m\n",
    "# digits of 1/y, ignoring the first m digits, and comparing\n",
    "# offsets of the decimal list until it finds a match.\n",
    "# For instance, this will check\n",
    "# dec[m:m+n] == dec[m+1:m+n+1] ?\n",
    "# dec[m:m+n] == dec[m+2:m+n+2] ?\n",
    "# until it finds a match.  It returns whatever offset it finds\n",
    "# as the cycle length, unless it doesn't find a match after\n",
    "# n offsets, in which case it returns n.\n",
    "\n",
    "def checkCycleLength(y,n,m):\n",
    "    dec = decimalRep(y,n,m)\n",
    "    for j in range(1,n):\n",
    "        if (dec[m:m+n] == dec[m+j:m+n+j]):\n",
    "            return j\n",
    "    return n\n",
    "\n",
    "# We'll check now.\n",
    "\n",
    "cycleLengthList = [0]*1000\n",
    "for k in range(1,1000):\n",
    "    cycleLengthList[k] = checkCycleLength(k,1000,200)\n",
    "    \n",
    "print(\"The value of d for which 1/d has the longest cycle is {}.\"\n",
    "      .format(cycleLengthList.index(max(cycleLengthList))))"
   ]
  },
  {
   "cell_type": "code",
   "execution_count": null,
   "metadata": {
    "collapsed": true
   },
   "outputs": [],
   "source": []
  }
 ],
 "metadata": {
  "kernelspec": {
   "display_name": "Python 3",
   "language": "python",
   "name": "python3"
  },
  "language_info": {
   "codemirror_mode": {
    "name": "ipython",
    "version": 3
   },
   "file_extension": ".py",
   "mimetype": "text/x-python",
   "name": "python",
   "nbconvert_exporter": "python",
   "pygments_lexer": "ipython3",
   "version": "3.6.3"
  }
 },
 "nbformat": 4,
 "nbformat_minor": 2
}
