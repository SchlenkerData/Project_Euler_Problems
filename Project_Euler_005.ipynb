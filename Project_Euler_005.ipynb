{
 "cells": [
  {
   "cell_type": "markdown",
   "metadata": {},
   "source": [
    "# Project Euler Problem 5\n",
    "\n",
    "2520 is the smallest number that can be divided by each of the numbers from 1 to 10 without any remainder.\n",
    "\n",
    "What is the smallest positive number that is evenly divisible by all of the numbers from 1 to 20?\n"
   ]
  },
  {
   "cell_type": "code",
   "execution_count": 21,
   "metadata": {},
   "outputs": [
    {
     "name": "stdout",
     "output_type": "stream",
     "text": [
      "The full set of factors is [2, 3, 2, 5, 7, 2, 3, 11, 13, 2, 17, 19].\n",
      "The answer is 232792560.\n"
     ]
    }
   ],
   "source": [
    "# We can solve this by considering prime factorization.\n",
    "# Take the prime factorization of every number from 2 to 20.\n",
    "# If a number is divisible by every number from 1 to 20, it will\n",
    "# have each of these factorizations as a subset.\n",
    "\n",
    "from functools import reduce\n",
    "\n",
    "# prime_factors(x) gives us the full list of prime factors of\n",
    "# x, including multiples.  For instance, prime_factors(4) returns\n",
    "# [2,2].\n",
    "\n",
    "def prime_factors(x):\n",
    "    i = 2\n",
    "    factor_list = []\n",
    "    while i <= x:\n",
    "        if i == x:\n",
    "            factor_list.append(i)\n",
    "            return factor_list\n",
    "        elif x % i == 0:\n",
    "            factor_list.append(i)\n",
    "            x = x/i\n",
    "        elif x % i != 0:\n",
    "            i += 1\n",
    "\n",
    "full_factor_list = []\n",
    "\n",
    "# In this for loop, we get the prime factorization of every number\n",
    "# from 2 through 20.  If any of those prime factors aren't included\n",
    "# in the same quantity as in full_factor_list, we append the factor\n",
    "# to full_factor_list.\n",
    "\n",
    "# For example, when j = 9, prime_factors(9) returns [3,3].  Since\n",
    "# there is only one element in full_factor_list equal to 3 at that\n",
    "# point, we append another 3 to full_factor_list.\n",
    "\n",
    "for j in range(2, 21):\n",
    "    factor_list = prime_factors(j)\n",
    "    if len(full_factor_list) == 0:\n",
    "        full_factor_list = full_factor_list + factor_list\n",
    "    else:\n",
    "        for k in factor_list:\n",
    "            if full_factor_list.count(k) < factor_list.count(k):\n",
    "                full_factor_list.append(k)\n",
    "\n",
    "print(\"The full set of factors is {}.\"\n",
    "      .format(full_factor_list))\n",
    "print(\"The answer is {}.\"\n",
    "      .format(reduce(lambda x, y: x*y, full_factor_list)))"
   ]
  },
  {
   "cell_type": "code",
   "execution_count": null,
   "metadata": {},
   "outputs": [],
   "source": []
  }
 ],
 "metadata": {
  "kernelspec": {
   "display_name": "Python 3",
   "language": "python",
   "name": "python3"
  },
  "language_info": {
   "codemirror_mode": {
    "name": "ipython",
    "version": 3
   },
   "file_extension": ".py",
   "mimetype": "text/x-python",
   "name": "python",
   "nbconvert_exporter": "python",
   "pygments_lexer": "ipython3",
   "version": "3.6.4"
  }
 },
 "nbformat": 4,
 "nbformat_minor": 2
}
