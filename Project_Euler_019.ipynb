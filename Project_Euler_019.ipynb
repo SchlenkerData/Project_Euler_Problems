{
 "cells": [
  {
   "cell_type": "markdown",
   "metadata": {},
   "source": [
    "# Project Euler Problem 19\n",
    "\n",
    "You are given the following information, but you may prefer to do some research for yourself.\n",
    "\n",
    "    1 Jan 1900 was a Monday.\n",
    "    Thirty days has September,\n",
    "    April, June and November.\n",
    "    All the rest have thirty-one,\n",
    "    Saving February alone,\n",
    "    Which has twenty-eight, rain or shine.\n",
    "    And on leap years, twenty-nine.\n",
    "    A leap year occurs on any year evenly divisible by 4, but not on a century unless it is divisible by 400.\n",
    "\n",
    "How many Sundays fell on the first of the month during the twentieth century (1 Jan 1901 to 31 Dec 2000)?\n"
   ]
  },
  {
   "cell_type": "code",
   "execution_count": 1,
   "metadata": {},
   "outputs": [
    {
     "name": "stdout",
     "output_type": "stream",
     "text": [
      "There were 171 sundays in the century.\n"
     ]
    }
   ],
   "source": [
    "year = 1901\n",
    "month = 1\n",
    "dow = 2\n",
    "# Let's number the months 1 to 12.\n",
    "# Let's number the days of the week 0 to 6.\n",
    "# 1 Jan 1901 was on a Tuesday.\n",
    "\n",
    "sundaycounter = 0\n",
    "\n",
    "while (year < 2001):\n",
    "    # First check if the month starts with a Sunday.  Print year and month if so.\n",
    "    if (dow == 0):\n",
    "        sundaycounter += 1\n",
    "        # print(year, month)\n",
    "    \n",
    "    # Add the appropriate number of days for the rest of the month.\n",
    "    if (month == 2):\n",
    "        if(year % 4 == 0):\n",
    "            dow = (dow + 29) % 7\n",
    "        else:\n",
    "            dow = (dow + 28) % 7\n",
    "    elif (month in (1, 3, 5, 7, 8, 10, 12)):\n",
    "        dow = (dow + 31) % 7\n",
    "    else:\n",
    "        dow = (dow + 30) % 7\n",
    "        \n",
    "    # Now increment one month ahead.\n",
    "    if (month == 12):\n",
    "        year += 1\n",
    "        month = 1\n",
    "    else:\n",
    "        month += 1\n",
    "        \n",
    "print(f\"There were {sundaycounter} sundays in the century.\")"
   ]
  },
  {
   "cell_type": "code",
   "execution_count": null,
   "metadata": {
    "collapsed": true
   },
   "outputs": [],
   "source": []
  }
 ],
 "metadata": {
  "kernelspec": {
   "display_name": "Python 3",
   "language": "python",
   "name": "python3"
  },
  "language_info": {
   "codemirror_mode": {
    "name": "ipython",
    "version": 3
   },
   "file_extension": ".py",
   "mimetype": "text/x-python",
   "name": "python",
   "nbconvert_exporter": "python",
   "pygments_lexer": "ipython3",
   "version": "3.6.4"
  }
 },
 "nbformat": 4,
 "nbformat_minor": 2
}
