{
 "cells": [
  {
   "cell_type": "markdown",
   "metadata": {},
   "source": [
    "# Project Euler Problem 16\n",
    "\n",
    "2^15 = 32768 and the sum of its digits is 3 + 2 + 7 + 6 + 8 = 26.\n",
    "\n",
    "What is the sum of the digits of the number 2^1000?\n"
   ]
  },
  {
   "cell_type": "code",
   "execution_count": 2,
   "metadata": {},
   "outputs": [
    {
     "name": "stdout",
     "output_type": "stream",
     "text": [
      "The sum of the digits of 2^1000 is 1366.\n"
     ]
    }
   ],
   "source": [
    "# Very simple: take 2^1000, turn it into a string, then\n",
    "# turn that string into a list.  You have a list of numbers\n",
    "# as characters.  Map int() to the elements of that list, so\n",
    "# you now have a list of digits as integers.  Finally, \n",
    "# sum the list of digits.\n",
    "\n",
    "print(\"The sum of the digits of 2^1000 is {}.\"\n",
    "     .format(sum(list(map(int, list(str(2**1000)))))))"
   ]
  },
  {
   "cell_type": "markdown",
   "metadata": {},
   "source": []
  }
 ],
 "metadata": {
  "kernelspec": {
   "display_name": "Python 3",
   "language": "python",
   "name": "python3"
  },
  "language_info": {
   "codemirror_mode": {
    "name": "ipython",
    "version": 3
   },
   "file_extension": ".py",
   "mimetype": "text/x-python",
   "name": "python",
   "nbconvert_exporter": "python",
   "pygments_lexer": "ipython3",
   "version": "3.6.4"
  }
 },
 "nbformat": 4,
 "nbformat_minor": 2
}
