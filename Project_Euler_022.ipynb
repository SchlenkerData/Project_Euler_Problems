{
 "cells": [
  {
   "cell_type": "markdown",
   "metadata": {},
   "source": [
    "# Project Euler Problem 22\n",
    "\n",
    "Using names.txt (right click and 'Save Link/Target As...'), a 46K text file containing over five-thousand first names, begin by sorting it into alphabetical order. Then working out the alphabetical value for each name, multiply this value by its alphabetical position in the list to obtain a name score.\n",
    "\n",
    "For example, when the list is sorted into alphabetical order, COLIN, which is worth 3 + 15 + 12 + 9 + 14 = 53, is the 938th name in the list. So, COLIN would obtain a score of 938 × 53 = 49714.\n",
    "\n",
    "What is the total of all the name scores in the file?\n"
   ]
  },
  {
   "cell_type": "code",
   "execution_count": 21,
   "metadata": {},
   "outputs": [
    {
     "name": "stdout",
     "output_type": "stream",
     "text": [
      "The total name score is 871198282\n"
     ]
    }
   ],
   "source": [
    "text_file = open(\"p022_names.txt\", \"r\")\n",
    "names = text_file.read().split('\",\"')\n",
    "names[0] = names[0].replace('\"', '')\n",
    "names[-1] = names[-1].replace('\"', '')\n",
    "sorted_names = sorted(names)\n",
    "\n",
    "# name_score() uses the ord() function, which returns the ASCII\n",
    "# value of a character.  For capital letters, ord('A') has a value of\n",
    "# 65, ord('B') has a value of 66, etc.  So, if we subtract 64, we get\n",
    "# the place of that letter in the alphabet.\n",
    "\n",
    "def name_score(x):\n",
    "    return sum(list(map(lambda y: ord(y) - 64, list(x))))\n",
    "\n",
    "name_scores = list(map(name_score, sorted_names))\n",
    "\n",
    "total_name_score = 0\n",
    "for i in range(len(name_scores)):\n",
    "    total_name_score += name_scores[i]*(i+1)\n",
    "    \n",
    "print(\"The total name score is {}\".format(total_name_score))"
   ]
  },
  {
   "cell_type": "code",
   "execution_count": null,
   "metadata": {},
   "outputs": [],
   "source": []
  }
 ],
 "metadata": {
  "kernelspec": {
   "display_name": "Python 3",
   "language": "python",
   "name": "python3"
  },
  "language_info": {
   "codemirror_mode": {
    "name": "ipython",
    "version": 3
   },
   "file_extension": ".py",
   "mimetype": "text/x-python",
   "name": "python",
   "nbconvert_exporter": "python",
   "pygments_lexer": "ipython3",
   "version": "3.6.4"
  }
 },
 "nbformat": 4,
 "nbformat_minor": 2
}
