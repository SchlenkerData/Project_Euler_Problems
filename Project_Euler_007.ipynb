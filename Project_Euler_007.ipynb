{
 "cells": [
  {
   "cell_type": "markdown",
   "metadata": {},
   "source": [
    "# Project Euler Problem 7\n",
    "\n",
    "\n",
    "\n",
    "By listing the first six prime numbers: 2, 3, 5, 7, 11, and 13, we can see that the 6th prime is 13.\n",
    "\n",
    "What is the 10,001st prime number?\n"
   ]
  },
  {
   "cell_type": "code",
   "execution_count": 12,
   "metadata": {},
   "outputs": [
    {
     "name": "stdout",
     "output_type": "stream",
     "text": [
      "The 10,001st prime number is 104743.\n"
     ]
    }
   ],
   "source": [
    "from math import sqrt\n",
    "\n",
    "primeList = [True]*200000\n",
    "primeList[0] = False\n",
    "primeList[1] = False\n",
    "\n",
    "# We'll apply a prime sieve on a Boolean list - initalized\n",
    "# as true for all elements of the list.  We go through and mark\n",
    "# primeList[j] = False if j is composite.  We only need to check\n",
    "# for multiples of primes up through the square root of the length\n",
    "# of the list (let's call it s), since any composite numbers larger\n",
    "# than s will have at least one prime factor smaller than s.\n",
    "\n",
    "for i in range(2, int(sqrt(len(primeList)))+1):\n",
    "    for j in range(2*i, len(primeList), i):\n",
    "        primeList[j] = False\n",
    "        \n",
    "primesCount = 0\n",
    "for k in range(len(primeList)):\n",
    "    if primeList[k]:\n",
    "        primesCount += 1\n",
    "    if primesCount == 10001:\n",
    "        print(\"The 10,001st prime number is {}.\".format(k))\n",
    "        break"
   ]
  },
  {
   "cell_type": "code",
   "execution_count": null,
   "metadata": {},
   "outputs": [],
   "source": []
  }
 ],
 "metadata": {
  "kernelspec": {
   "display_name": "Python 3",
   "language": "python",
   "name": "python3"
  },
  "language_info": {
   "codemirror_mode": {
    "name": "ipython",
    "version": 3
   },
   "file_extension": ".py",
   "mimetype": "text/x-python",
   "name": "python",
   "nbconvert_exporter": "python",
   "pygments_lexer": "ipython3",
   "version": "3.6.4"
  }
 },
 "nbformat": 4,
 "nbformat_minor": 2
}
