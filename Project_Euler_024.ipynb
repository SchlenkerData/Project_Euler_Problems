{
 "cells": [
  {
   "cell_type": "markdown",
   "metadata": {},
   "source": [
    "# Project Euler Problem 24\n",
    "\n",
    "\n",
    "\n",
    "A permutation is an ordered arrangement of objects. For example, 3124 is one possible permutation of the digits 1, 2, 3 and 4. If all of the permutations are listed numerically or alphabetically, we call it lexicographic order. The lexicographic permutations of 0, 1 and 2 are:\n",
    "\n",
    "    012   021   102   120   201   210\n",
    "\n",
    "What is the millionth lexicographic permutation of the digits 0, 1, 2, 3, 4, 5, 6, 7, 8 and 9?\n"
   ]
  },
  {
   "cell_type": "code",
   "execution_count": 4,
   "metadata": {},
   "outputs": [
    {
     "name": "stdout",
     "output_type": "stream",
     "text": [
      "The millionth permutation is 2783915460.\n"
     ]
    }
   ],
   "source": [
    "# I hadn't touched this problem in a while, so looking back at it\n",
    "# again, it took me some time to tease out the logic of what I was\n",
    "# doing.\n",
    "\n",
    "# When going through permutations of n elements in lexicographic\n",
    "# order, we don't change the first element until we've exhausted\n",
    "# all (n-1)! permutations of the remaining elements to the right.\n",
    "# This logic can be applied going to the right as our set of \n",
    "# remaining elements shrinks.\n",
    "\n",
    "# We know that the first permutation is 0123456789, and we want\n",
    "# to move ahead 999999 steps.  To figure out the first digit of\n",
    "# the millionth permutation, we see how often the remaining\n",
    "# 9 digits get shuffled through all 9! permutations.\n",
    "# 9! = 362880, and 999999/362880 is a little over 2,\n",
    "# so we have to remove element 2 (using Python numbering\n",
    "# starting at 0) from our originalList\n",
    "# and place it at the front of our solutionList.  There are\n",
    "# 999999 - 2*9! = 274239 permutations remaining.\n",
    "\n",
    "# Move onto the second digit.  We have to see how many permutations\n",
    "# happen in the rightmost 8 digits to see how many times\n",
    "# we have to change the second digit.  8! = 40320, and\n",
    "# 40320 goes into 274239 a little over 6 times, so we pick\n",
    "# element 6 from the remaining originalList, which is 7.\n",
    "# Our originalList is now missing the numbers 2 and 7.\n",
    "# There are 274239 - 6*8! = 32319 permutations remaining.\n",
    "\n",
    "# Keep going until you get to the end.\n",
    "\n",
    "from math import floor, factorial\n",
    "\n",
    "originList = [0,1,2,3,4,5,6,7,8,9]\n",
    "count = 10**6-1\n",
    "solutionList = [0,0,0,0,0,0,0,0,0,0]\n",
    "\n",
    "for i in range(10):\n",
    "    solutionList[i] = originList[int(floor(count/factorial(9-i)))]\n",
    "    count = count % factorial(9-i)\n",
    "    originList.remove(solutionList[i])\n",
    "    \n",
    "print(\"The millionth permutation is {}.\"\n",
    "     .format(int(''.join(list(map(str, solutionList))))))"
   ]
  },
  {
   "cell_type": "code",
   "execution_count": null,
   "metadata": {},
   "outputs": [],
   "source": []
  }
 ],
 "metadata": {
  "kernelspec": {
   "display_name": "Python 3",
   "language": "python",
   "name": "python3"
  },
  "language_info": {
   "codemirror_mode": {
    "name": "ipython",
    "version": 3
   },
   "file_extension": ".py",
   "mimetype": "text/x-python",
   "name": "python",
   "nbconvert_exporter": "python",
   "pygments_lexer": "ipython3",
   "version": "3.6.4"
  }
 },
 "nbformat": 4,
 "nbformat_minor": 2
}
