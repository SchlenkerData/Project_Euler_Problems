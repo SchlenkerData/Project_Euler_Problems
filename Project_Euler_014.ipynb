{
 "cells": [
  {
   "cell_type": "markdown",
   "metadata": {},
   "source": [
    "# Project Euler Problem 14\n",
    "\n",
    "\n",
    "\n",
    "The following iterative sequence is defined for the set of positive integers:\n",
    "\n",
    "    n → n/2 (n is even)\n",
    "    n → 3n + 1 (n is odd)\n",
    "\n",
    "Using the rule above and starting with 13, we generate the following sequence:\n",
    "\n",
    "    13 → 40 → 20 → 10 → 5 → 16 → 8 → 4 → 2 → 1\n",
    "\n",
    "It can be seen that this sequence (starting at 13 and finishing at 1) contains 10 terms. Although it has not been proved yet (Collatz Problem), it is thought that all starting numbers finish at 1.\n",
    "\n",
    "Which starting number, under one million, produces the longest chain?\n",
    "\n",
    "NOTE: Once the chain starts the terms are allowed to go above one million.\n"
   ]
  },
  {
   "cell_type": "code",
   "execution_count": 4,
   "metadata": {},
   "outputs": [
    {
     "name": "stdout",
     "output_type": "stream",
     "text": [
      "837799 creates a chain of length 524.\n"
     ]
    }
   ],
   "source": [
    "maxchain = 0\n",
    "maxchainseed = 0\n",
    "\n",
    "for i in range(2, 1000000):\n",
    "    j = i\n",
    "    chainlength = 0\n",
    "    while j != 1:\n",
    "        if j % 2 == 0:\n",
    "            j = j/2\n",
    "        else:\n",
    "            j = 3*j + 1\n",
    "        chainlength += 1\n",
    "    if chainlength > maxchain:\n",
    "        maxchain = chainlength\n",
    "        maxchainseed = i\n",
    "        \n",
    "print(\"{} creates a chain of length {}.\"\n",
    "     .format(maxchainseed, maxchain))"
   ]
  },
  {
   "cell_type": "code",
   "execution_count": null,
   "metadata": {},
   "outputs": [],
   "source": []
  }
 ],
 "metadata": {
  "kernelspec": {
   "display_name": "Python 3",
   "language": "python",
   "name": "python3"
  },
  "language_info": {
   "codemirror_mode": {
    "name": "ipython",
    "version": 3
   },
   "file_extension": ".py",
   "mimetype": "text/x-python",
   "name": "python",
   "nbconvert_exporter": "python",
   "pygments_lexer": "ipython3",
   "version": "3.6.4"
  }
 },
 "nbformat": 4,
 "nbformat_minor": 2
}
