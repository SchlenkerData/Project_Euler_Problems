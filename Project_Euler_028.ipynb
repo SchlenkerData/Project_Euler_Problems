{
 "cells": [
  {
   "cell_type": "markdown",
   "metadata": {},
   "source": [
    "# Project Euler Problem 28\n",
    "\n",
    "\n",
    "Starting with the number 1 and moving to the right in a clockwise direction a 5 by 5 spiral is formed as follows:\n",
    "\n",
    "    21 22 23 24 25\n",
    "    20  7  8  9 10\n",
    "    19  6  1  2 11\n",
    "    18  5  4  3 12\n",
    "    17 16 15 14 13\n",
    "\n",
    "It can be verified that the sum of the numbers on the diagonals is 101.\n",
    "\n",
    "What is the sum of the numbers on the diagonals in a 1001 by 1001 spiral formed in the same way?\n"
   ]
  },
  {
   "cell_type": "code",
   "execution_count": 2,
   "metadata": {},
   "outputs": [
    {
     "name": "stdout",
     "output_type": "stream",
     "text": [
      "The sum of the diagonal elements is 669171001.\n"
     ]
    }
   ],
   "source": [
    "# I solved this by making a list of all diagonal elements.\n",
    "# If we view this spiral like an onion with layers, \n",
    "# each layer has 4 diagonal elements, equally spaced.\n",
    "# The size of the space between these 4 diagonal elements\n",
    "# increases by 2 in each new layer.  This is because each side\n",
    "# of the spiral gets 2 elements longer in each new layer.\n",
    "\n",
    "# My code adds layers and diagonal elements until we finally\n",
    "# have a 1001 x 1001 spiral.\n",
    "\n",
    "gridSize = 1\n",
    "diagList = [1]\n",
    "diagElement = 1\n",
    "spacing = 2\n",
    "while gridSize < 1001:\n",
    "    diagList.append(diagElement + spacing)\n",
    "    diagList.append(diagElement + 2*spacing)\n",
    "    diagList.append(diagElement + 3*spacing)\n",
    "    diagList.append(diagElement + 4*spacing)\n",
    "    gridSize += 2\n",
    "    diagElement = diagElement + 4*spacing\n",
    "    spacing += 2\n",
    "\n",
    "print(\"The sum of the diagonal elements is {}.\" \n",
    "      .format(sum(diagList)))"
   ]
  },
  {
   "cell_type": "code",
   "execution_count": null,
   "metadata": {
    "collapsed": true
   },
   "outputs": [],
   "source": []
  }
 ],
 "metadata": {
  "kernelspec": {
   "display_name": "Python 3",
   "language": "python",
   "name": "python3"
  },
  "language_info": {
   "codemirror_mode": {
    "name": "ipython",
    "version": 3
   },
   "file_extension": ".py",
   "mimetype": "text/x-python",
   "name": "python",
   "nbconvert_exporter": "python",
   "pygments_lexer": "ipython3",
   "version": "3.6.3"
  }
 },
 "nbformat": 4,
 "nbformat_minor": 2
}
