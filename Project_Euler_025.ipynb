{
 "cells": [
  {
   "cell_type": "markdown",
   "metadata": {},
   "source": [
    "# Project Euler Problem 25\n",
    "\n",
    "\n",
    "The Fibonacci sequence is defined by the recurrence relation:\n",
    "\n",
    "    F(n) = F(n−1) + F(n−2), where F(1) = 1 and F(2) = 1.\n",
    "\n",
    "Hence the first 12 terms will be:\n",
    "\n",
    "    F(1) = 1\n",
    "    F(2) = 1\n",
    "    F(3) = 2\n",
    "    F(4) = 3\n",
    "    F(5) = 5\n",
    "    F(6) = 8\n",
    "    F(7) = 13\n",
    "    F(8) = 21\n",
    "    F(9) = 34\n",
    "    F(10) = 55\n",
    "    F(11) = 89\n",
    "    F(12) = 144\n",
    "\n",
    "The 12th term, F(12), is the first term to contain three digits.\n",
    "\n",
    "What is the index of the first term in the Fibonacci sequence to contain 1000 digits?\n"
   ]
  },
  {
   "cell_type": "code",
   "execution_count": 6,
   "metadata": {},
   "outputs": [
    {
     "name": "stdout",
     "output_type": "stream",
     "text": [
      "The index of the first 1000-digit term is 4782.\n"
     ]
    }
   ],
   "source": [
    "fiblist = [1,1]\n",
    "while len(str(fiblist[-1])) < 1000:\n",
    "    fiblist.append(fiblist[-1]+fiblist[-2])\n",
    "    if len(str(fiblist[-1])) == 1000:\n",
    "        print(\"The index of the first 1000-digit \" +\n",
    "              \"term is {}.\"\n",
    "              .format(len(fiblist)))"
   ]
  },
  {
   "cell_type": "code",
   "execution_count": null,
   "metadata": {},
   "outputs": [],
   "source": []
  }
 ],
 "metadata": {
  "kernelspec": {
   "display_name": "Python 3",
   "language": "python",
   "name": "python3"
  },
  "language_info": {
   "codemirror_mode": {
    "name": "ipython",
    "version": 3
   },
   "file_extension": ".py",
   "mimetype": "text/x-python",
   "name": "python",
   "nbconvert_exporter": "python",
   "pygments_lexer": "ipython3",
   "version": "3.6.4"
  }
 },
 "nbformat": 4,
 "nbformat_minor": 2
}
