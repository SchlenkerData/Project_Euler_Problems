{
 "cells": [
  {
   "cell_type": "markdown",
   "metadata": {},
   "source": [
    "# Project Euler Problem 4\n",
    "\n",
    "A palindromic number reads the same both ways. The largest palindrome made from the product of two 2-digit numbers is 9009 = 91 × 99.\n",
    "\n",
    "Find the largest palindrome made from the product of two 3-digit numbers.\n"
   ]
  },
  {
   "cell_type": "code",
   "execution_count": 1,
   "metadata": {},
   "outputs": [
    {
     "name": "stdout",
     "output_type": "stream",
     "text": [
      "Largest palindrome product: 913 x 993 = 906609\n"
     ]
    }
   ],
   "source": [
    "# We use a nested for loop to check all possible products of \n",
    "# 3-digit numbers.  To check if the product is a palindrome, we\n",
    "# convert the product to a string, reverse the string, convert\n",
    "# back to an integer, then see if that's equal to the original product.\n",
    "\n",
    "max_palin_prod = 0\n",
    "max_x = 0\n",
    "max_y = 0\n",
    "\n",
    "for x in range(100, 1000):\n",
    "    for y in range(x, 1000):\n",
    "        palin_check = int(str(x*y)[::-1])\n",
    "        if (palin_check == x*y) and (x*y > max_palin_prod):\n",
    "            max_palin_prod = x*y\n",
    "            max_x = x\n",
    "            max_y = y\n",
    "            \n",
    "print(\"Largest palindrome product: {} x {} = {}\"\n",
    "      .format(max_x, max_y, max_palin_prod))"
   ]
  },
  {
   "cell_type": "code",
   "execution_count": null,
   "metadata": {
    "collapsed": true
   },
   "outputs": [],
   "source": []
  }
 ],
 "metadata": {
  "kernelspec": {
   "display_name": "Python 3",
   "language": "python",
   "name": "python3"
  },
  "language_info": {
   "codemirror_mode": {
    "name": "ipython",
    "version": 3
   },
   "file_extension": ".py",
   "mimetype": "text/x-python",
   "name": "python",
   "nbconvert_exporter": "python",
   "pygments_lexer": "ipython3",
   "version": "3.6.3"
  }
 },
 "nbformat": 4,
 "nbformat_minor": 2
}
