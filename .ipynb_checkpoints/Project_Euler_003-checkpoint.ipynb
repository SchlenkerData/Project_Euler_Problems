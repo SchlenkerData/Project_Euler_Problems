{
 "cells": [
  {
   "cell_type": "markdown",
   "metadata": {},
   "source": [
    "# Project Euler Problem 3\n",
    "\n",
    "The prime factors of 13195 are 5, 7, 13 and 29.\n",
    "\n",
    "What is the largest prime factor of the number 600851475143 ?\n"
   ]
  },
  {
   "cell_type": "code",
   "execution_count": 1,
   "metadata": {},
   "outputs": [
    {
     "name": "stdout",
     "output_type": "stream",
     "text": [
      "71 is a prime factor.\n",
      "839 is a prime factor.\n",
      "1471 is a prime factor.\n",
      "The largest prime factor is 6857.\n"
     ]
    }
   ],
   "source": [
    "# The simplest way to find the prime factors of a number n\n",
    "# is to start by dividing n by 2 as many times as you can, \n",
    "# then by 3, etc.  This method does not require a prime\n",
    "# sieve, since dividing by all powers of smaller primes\n",
    "# will exclude any composite numbers you hit along the way.\n",
    "# For instance, once we've checked 2 and 3, we don't need to \n",
    "# worry about 4 and 6 showing up in the list of prime factors.\n",
    "\n",
    "bignum = 600851475143\n",
    "i = 2\n",
    "\n",
    "while bignum > 1:\n",
    "    if bignum == i:\n",
    "        print(\"The largest prime factor is {}.\".format(i))\n",
    "        bignum = 1\n",
    "    elif bignum % i == 0:\n",
    "        print(\"{} is a prime factor.\".format(i))\n",
    "        bignum = bignum / i\n",
    "    elif bignum % i != 0:\n",
    "        i += 1\n"
   ]
  },
  {
   "cell_type": "code",
   "execution_count": null,
   "metadata": {
    "collapsed": true
   },
   "outputs": [],
   "source": []
  }
 ],
 "metadata": {
  "kernelspec": {
   "display_name": "Python 3",
   "language": "python",
   "name": "python3"
  },
  "language_info": {
   "codemirror_mode": {
    "name": "ipython",
    "version": 3
   },
   "file_extension": ".py",
   "mimetype": "text/x-python",
   "name": "python",
   "nbconvert_exporter": "python",
   "pygments_lexer": "ipython3",
   "version": "3.6.3"
  }
 },
 "nbformat": 4,
 "nbformat_minor": 2
}
