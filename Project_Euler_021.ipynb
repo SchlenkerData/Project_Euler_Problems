{
 "cells": [
  {
   "cell_type": "markdown",
   "metadata": {},
   "source": [
    "# Project Euler Problem 21\n",
    "\n",
    "Let d(n) be defined as the sum of proper divisors of n (numbers less than n which divide evenly into n).\n",
    "If d(a) = b and d(b) = a, where a ≠ b, then a and b are an amicable pair and each of a and b are called amicable numbers.\n",
    "\n",
    "For example, the proper divisors of 220 are 1, 2, 4, 5, 10, 11, 20, 22, 44, 55 and 110; therefore d(220) = 284. The proper divisors of 284 are 1, 2, 4, 71 and 142; so d(284) = 220.\n",
    "\n",
    "Evaluate the sum of all the amicable numbers under 10000.\n"
   ]
  },
  {
   "cell_type": "code",
   "execution_count": 5,
   "metadata": {},
   "outputs": [
    {
     "name": "stdout",
     "output_type": "stream",
     "text": [
      "The sum of amicable numbers under 10000 is 31626\n"
     ]
    }
   ],
   "source": [
    "from math import sqrt, ceil\n",
    "\n",
    "amicable_sum = 0\n",
    "\n",
    "# The function divisorsum(k) gets the sum of proper divisors of k\n",
    "# by going through all numbers i from 2 to sqrt(k) and checking\n",
    "# divisibility.  If i is the square root of k, we just add that\n",
    "# to the sum of divisors.  Otherwise, if i is a divisor of k \n",
    "# less than the square root of k, we add i and k/i to \n",
    "# the sum of divisors.  Remember that 1 is always a divisor of\n",
    "# any integer, so we add that at the end.\n",
    "\n",
    "def divisorsum(k):\n",
    "    total = 0\n",
    "    for i in range(2, int(ceil(sqrt(k))) + 1):\n",
    "        if k / i == i and k % i == 0:\n",
    "            total += i\n",
    "        elif i > sqrt(k):\n",
    "            total += 0\n",
    "        elif k % i == 0:\n",
    "            total += i\n",
    "            total += k/i\n",
    "    return int(total + 1)\n",
    "\n",
    "# A number j is part of an amicable pair if the divisor sum of its\n",
    "# divisor sum is equal to j, and if the divisor sum of j isn't\n",
    "# equal to j.\n",
    "\n",
    "for j in range(5, 10000):\n",
    "    if (divisorsum(divisorsum(j)) == j and\n",
    "        divisorsum(j) != j):\n",
    "        amicable_sum += j\n",
    "\n",
    "print(\"The sum of amicable numbers under 10000 is {}\"\n",
    "     .format(amicable_sum))"
   ]
  },
  {
   "cell_type": "code",
   "execution_count": null,
   "metadata": {},
   "outputs": [],
   "source": []
  }
 ],
 "metadata": {
  "kernelspec": {
   "display_name": "Python 3",
   "language": "python",
   "name": "python3"
  },
  "language_info": {
   "codemirror_mode": {
    "name": "ipython",
    "version": 3
   },
   "file_extension": ".py",
   "mimetype": "text/x-python",
   "name": "python",
   "nbconvert_exporter": "python",
   "pygments_lexer": "ipython3",
   "version": "3.6.4"
  }
 },
 "nbformat": 4,
 "nbformat_minor": 2
}
