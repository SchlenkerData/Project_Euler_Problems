{
 "cells": [
  {
   "cell_type": "markdown",
   "metadata": {},
   "source": [
    "# Project Euler Problem 15\n",
    "\n",
    "Starting in the top left corner of a 2×2 grid, and only being able to move to the right and down, there are exactly 6 routes to the bottom right corner.\n",
    "\n",
    "How many such routes are there through a 20×20 grid?\n"
   ]
  },
  {
   "cell_type": "code",
   "execution_count": 7,
   "metadata": {},
   "outputs": [
    {
     "name": "stdout",
     "output_type": "stream",
     "text": [
      "The total number of routes is 137846528820.\n"
     ]
    }
   ],
   "source": [
    "# To solve this, we'll create a 21 x 21 array of numbers,\n",
    "# initializing every element at 1.  For every element along\n",
    "# the top row or the leftmost column, there is only one way\n",
    "# to reach that point in the grid.  For every other point\n",
    "# in the grid, the number of paths there is equal to the \n",
    "# number of paths to the point just above plus the number\n",
    "# of paths to the point just to the left.  We can calculate the\n",
    "# total number of paths to each point in the grid by applying\n",
    "# this sum.  The total number of paths will be the value\n",
    "# in the lower right corner of this array.\n",
    "\n",
    "import numpy as np\n",
    "\n",
    "grid = np.ones((21, 21)).astype(int)\n",
    "for i in range(1, 21):\n",
    "    for j in range(1, 21):\n",
    "        grid[i, j] = grid[i-1, j] + grid[i, j-1]\n",
    "        \n",
    "print(\"The total number of routes is {}.\"\n",
    "      .format(grid[20,20]))"
   ]
  },
  {
   "cell_type": "code",
   "execution_count": null,
   "metadata": {},
   "outputs": [],
   "source": []
  }
 ],
 "metadata": {
  "kernelspec": {
   "display_name": "Python 3",
   "language": "python",
   "name": "python3"
  },
  "language_info": {
   "codemirror_mode": {
    "name": "ipython",
    "version": 3
   },
   "file_extension": ".py",
   "mimetype": "text/x-python",
   "name": "python",
   "nbconvert_exporter": "python",
   "pygments_lexer": "ipython3",
   "version": "3.6.4"
  }
 },
 "nbformat": 4,
 "nbformat_minor": 2
}
