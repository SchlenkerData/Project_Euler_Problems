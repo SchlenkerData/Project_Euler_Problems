{
 "cells": [
  {
   "cell_type": "markdown",
   "metadata": {},
   "source": [
    "# Project Euler Problem 6\n",
    "\n",
    "The sum of the squares of the first ten natural numbers is,\n",
    "1^2 + 2^2 + ... + 10^2 = 385\n",
    "\n",
    "The square of the sum of the first ten natural numbers is,\n",
    "(1 + 2 + ... + 10)^2 = 55^2 = 3025\n",
    "\n",
    "Hence the difference between the sum of the squares of the first ten natural numbers and the square of the sum is 3025 − 385 = 2640.\n",
    "\n",
    "Find the difference between the sum of the squares of the first one hundred natural numbers and the square of the sum.\n"
   ]
  },
  {
   "cell_type": "code",
   "execution_count": 1,
   "metadata": {},
   "outputs": [
    {
     "name": "stdout",
     "output_type": "stream",
     "text": [
      "The sum of squares is 338350.\n",
      "The square of the sum is 25502500.\n",
      "The difference between the two is 25164150.\n"
     ]
    }
   ],
   "source": [
    "just_sum = 0\n",
    "sum_squares = 0\n",
    "square_sum = 0\n",
    "\n",
    "for i in range(1, 101):\n",
    "    just_sum += i\n",
    "    sum_squares += i**2\n",
    "    \n",
    "square_sum = just_sum**2\n",
    "\n",
    "print(\"The sum of squares is {}.\"\n",
    "     .format(sum_squares))\n",
    "print(\"The square of the sum is {}.\"\n",
    "     .format(square_sum))\n",
    "print(\"The difference between the two is {}.\"\n",
    "     .format(square_sum - sum_squares))"
   ]
  },
  {
   "cell_type": "code",
   "execution_count": null,
   "metadata": {
    "collapsed": true
   },
   "outputs": [],
   "source": []
  }
 ],
 "metadata": {
  "kernelspec": {
   "display_name": "Python 3",
   "language": "python",
   "name": "python3"
  },
  "language_info": {
   "codemirror_mode": {
    "name": "ipython",
    "version": 3
   },
   "file_extension": ".py",
   "mimetype": "text/x-python",
   "name": "python",
   "nbconvert_exporter": "python",
   "pygments_lexer": "ipython3",
   "version": "3.6.3"
  }
 },
 "nbformat": 4,
 "nbformat_minor": 2
}
