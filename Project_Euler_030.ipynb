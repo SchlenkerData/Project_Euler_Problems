{
 "cells": [
  {
   "cell_type": "markdown",
   "metadata": {},
   "source": [
    "# Project Euler Problem 30\n",
    "\n",
    "\n",
    "Surprisingly there are only three numbers that can be written as the sum of fourth powers of their digits:\n",
    "\n",
    "    1634 = 1^4 + 6^4 + 3^4 + 4^4\n",
    "    8208 = 8^4 + 2^4 + 0^4 + 8^4\n",
    "    9474 = 9^4 + 4^4 + 7^4 + 4^4\n",
    "\n",
    "As 1 = 1^4 is not a sum it is not included.\n",
    "\n",
    "The sum of these numbers is 1634 + 8208 + 9474 = 19316.\n",
    "\n",
    "Find the sum of all the numbers that can be written as the sum of fifth powers of their digits.\n"
   ]
  },
  {
   "cell_type": "code",
   "execution_count": 12,
   "metadata": {},
   "outputs": [
    {
     "name": "stdout",
     "output_type": "stream",
     "text": [
      "The set of numbers that can be written as a sum of \n",
      "fifth powers of their digits is \n",
      "[4150, 4151, 54748, 92727, 93084, 194979].\n",
      "\n",
      "The sum of these numbers is 443839.\n"
     ]
    }
   ],
   "source": [
    "def check_fifth(n):\n",
    "    sum_dig_fifth = sum(map(lambda x: int(x)**5, str(n)))\n",
    "    return sum_dig_fifth == n\n",
    "\n",
    "fifth_list = []\n",
    "for j in range(2, 200000):\n",
    "    if check_fifth(j):\n",
    "        fifth_list.append(j)\n",
    "        \n",
    "print(\"The set of numbers that can be written as a sum of \\n\" +\n",
    "     \"fifth powers of their digits is \\n{}.\\n\"\n",
    "     .format(fifth_list))\n",
    "\n",
    "print(\"The sum of these numbers is {}.\"\n",
    "     .format(sum(fifth_list)))"
   ]
  },
  {
   "cell_type": "code",
   "execution_count": 15,
   "metadata": {},
   "outputs": [
    {
     "name": "stdout",
     "output_type": "stream",
     "text": [
      "The sum is 443839.\n"
     ]
    }
   ],
   "source": [
    "# Could I write this code even shorter?\n",
    "\n",
    "total = 0\n",
    "for k in range(2, 200000):\n",
    "    if k == sum(map(lambda x: int(x)**5, str(k))):\n",
    "        total += k\n",
    "        \n",
    "print(\"The sum is {}.\".format(total))"
   ]
  },
  {
   "cell_type": "code",
   "execution_count": 22,
   "metadata": {},
   "outputs": [
    {
     "name": "stdout",
     "output_type": "stream",
     "text": [
      "Sum = 443839.\n"
     ]
    }
   ],
   "source": [
    "# Could I write this code even shorter?\n",
    "\n",
    "print(\"Sum = {}.\".format(sum([m if m == sum(map(lambda x: int(x)**5, \n",
    "    str(m))) else 0 for m in range(2, 200000)])))"
   ]
  },
  {
   "cell_type": "code",
   "execution_count": null,
   "metadata": {
    "collapsed": true
   },
   "outputs": [],
   "source": []
  }
 ],
 "metadata": {
  "kernelspec": {
   "display_name": "Python 3",
   "language": "python",
   "name": "python3"
  },
  "language_info": {
   "codemirror_mode": {
    "name": "ipython",
    "version": 3
   },
   "file_extension": ".py",
   "mimetype": "text/x-python",
   "name": "python",
   "nbconvert_exporter": "python",
   "pygments_lexer": "ipython3",
   "version": "3.6.3"
  }
 },
 "nbformat": 4,
 "nbformat_minor": 2
}
