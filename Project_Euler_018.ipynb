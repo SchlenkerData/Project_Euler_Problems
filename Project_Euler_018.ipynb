{
 "cells": [
  {
   "cell_type": "markdown",
   "metadata": {},
   "source": [
    "# Project Euler Problem 18\n",
    "\n",
    "By starting at the top of the triangle below and moving to adjacent numbers on the row below, the maximum total from top to bottom is 23.\n",
    "\n",
    "    3\n",
    "    7 4\n",
    "    2 4 6\n",
    "    8 5 9 3\n",
    "\n",
    "That is, 3 + 7 + 4 + 9 = 23.\n",
    "\n",
    "Find the maximum total from top to bottom of the triangle below:\n",
    "\n",
    "    75\n",
    "    95 64\n",
    "    17 47 82\n",
    "    18 35 87 10\n",
    "    20 04 82 47 65\n",
    "    19 01 23 75 03 34\n",
    "    88 02 77 73 07 63 67\n",
    "    99 65 04 28 06 16 70 92\n",
    "    41 41 26 56 83 40 80 70 33\n",
    "    41 48 72 33 47 32 37 16 94 29\n",
    "    53 71 44 65 25 43 91 52 97 51 14\n",
    "    70 11 33 28 77 73 17 78 39 68 17 57\n",
    "    91 71 52 38 17 14 91 43 58 50 27 29 48\n",
    "    63 66 04 68 89 53 67 30 73 16 69 87 40 31\n",
    "    04 62 98 27 23 09 70 98 73 93 38 53 60 04 23\n",
    "\n",
    "NOTE: As there are only 16384 routes, it is possible to solve this problem by trying every route. However, Problem 67, is the same challenge with a triangle containing one-hundred rows; it cannot be solved by brute force, and requires a clever method! ;o)\n"
   ]
  },
  {
   "cell_type": "code",
   "execution_count": 18,
   "metadata": {},
   "outputs": [
    {
     "name": "stdout",
     "output_type": "stream",
     "text": [
      "The max sum from top to bottom is 1074.\n"
     ]
    }
   ],
   "source": [
    "\n",
    "tri_array = \"\"\"\n",
    "75\n",
    "95 64\n",
    "17 47 82\n",
    "18 35 87 10\n",
    "20 04 82 47 65\n",
    "19 01 23 75 03 34\n",
    "88 02 77 73 07 63 67\n",
    "99 65 04 28 06 16 70 92\n",
    "41 41 26 56 83 40 80 70 33\n",
    "41 48 72 33 47 32 37 16 94 29\n",
    "53 71 44 65 25 43 91 52 97 51 14\n",
    "70 11 33 28 77 73 17 78 39 68 17 57\n",
    "91 71 52 38 17 14 91 43 58 50 27 29 48\n",
    "63 66 04 68 89 53 67 30 73 16 69 87 40 31\n",
    "04 62 98 27 23 09 70 98 73 93 38 53 60 04 23\n",
    "\"\"\"\n",
    "\n",
    "# This section turns the block of text into a list of lists of numbers.\n",
    "# There's one sublist for each row.\n",
    "\n",
    "tri_array = tri_array.strip().split(\"\\n\")\n",
    "for i in range(len(tri_array)):\n",
    "    tri_array[i] = tri_array[i].split(\" \")\n",
    "for j in range(len(tri_array)):\n",
    "    tri_array[j] = list(map(int, tri_array[j]))\n",
    "\n",
    "# To solve the actual problem, we add numbers from the bottom up.\n",
    "# Starting with the bottom row, each element above it has two\n",
    "# options for summing.  Add the element from the bottom to the \n",
    "# element from the row above that yields the greater sum.\n",
    "# Keep going iteratively up the triangle until you get to the top.\n",
    "# The largest sum will show up at the top of the triangle.\n",
    "\n",
    "for i in range(len(tri_array)-2, -1, -1):\n",
    "    for j in range(len(tri_array[i])):\n",
    "        if (tri_array[i][j] + tri_array[i+1][j] >\n",
    "           tri_array[i][j] + tri_array[i+1][j+1]):\n",
    "            tri_array[i][j] += tri_array[i+1][j]\n",
    "        else:\n",
    "            tri_array[i][j] += tri_array[i+1][j+1]\n",
    "            \n",
    "print(\"The max sum from top to bottom is {}.\"\n",
    "     .format(tri_array[0][0]))"
   ]
  },
  {
   "cell_type": "code",
   "execution_count": null,
   "metadata": {},
   "outputs": [],
   "source": []
  }
 ],
 "metadata": {
  "kernelspec": {
   "display_name": "Python 3",
   "language": "python",
   "name": "python3"
  },
  "language_info": {
   "codemirror_mode": {
    "name": "ipython",
    "version": 3
   },
   "file_extension": ".py",
   "mimetype": "text/x-python",
   "name": "python",
   "nbconvert_exporter": "python",
   "pygments_lexer": "ipython3",
   "version": "3.6.4"
  }
 },
 "nbformat": 4,
 "nbformat_minor": 2
}
