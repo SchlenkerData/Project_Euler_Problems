{
 "cells": [
  {
   "cell_type": "markdown",
   "metadata": {},
   "source": [
    "# Project Euler Problem 27\n",
    "\n",
    "Euler discovered the remarkable quadratic formula:\n",
    "\n",
    "    n^2+n+41\n",
    "\n",
    "It turns out that the formula will produce 40 primes for the consecutive integer values 0 ≤ n ≤ 39\n",
    ". However, when n = 40, 40^2 + 40 + 41 = 40(40 + 1) + 41 is divisible by 41, and certainly when n = 41, 41^2 + 41 + 41 is clearly divisible by 41.\n",
    "\n",
    "The incredible formula n^2 − 79n + 1601 was discovered, which produces 80 primes for the consecutive values 0 ≤ n ≤ 79. The product of the coefficients, −79 and 1601, is −126479.\n",
    "\n",
    "Considering quadratics of the form:\n",
    "\n",
    "    n^2+an+b\n",
    "\n",
    ", where |a| < 1000 and |b| ≤ 1000, where |n| is the modulus/absolute value of n, e.g. |11| = 11 and |−4| = 4\n",
    "\n",
    "Find the product of the coefficients, a and b, for the quadratic expression that produces the maximum number of primes for consecutive values of n, starting with n = 0."
   ]
  },
  {
   "cell_type": "code",
   "execution_count": 16,
   "metadata": {},
   "outputs": [
    {
     "name": "stdout",
     "output_type": "stream",
     "text": [
      "a is -61.\n",
      "b is 971.\n",
      "These a and b yield 71 consecutive primes.\n",
      "a*b is -59231\n"
     ]
    }
   ],
   "source": [
    "prime_bool_list = [True]*1000000\n",
    "prime_bool_list[0] = False\n",
    "prime_bool_list[1] = False\n",
    "for i in range(2, 999):\n",
    "    for k in range(i*i, 999999, i):\n",
    "        prime_bool_list[k] = False\n",
    "\n",
    "primes_under_1000 = []\n",
    "for k in range(2, 1000):\n",
    "    if prime_bool_list[k]:\n",
    "        primes_under_1000.append(k)\n",
    "        \n",
    "def checkConsecPrimes(a, b):\n",
    "    n = 0\n",
    "    primeResult = True\n",
    "    while (primeResult):\n",
    "        if (prime_bool_list[n**2 + a*n + b]):\n",
    "            n += 1\n",
    "        else:\n",
    "            primeResult = False\n",
    "    return n\n",
    "\n",
    "highestConsecPrimes = 0\n",
    "highestA = 0\n",
    "highestB = 0\n",
    "for a in range(-999, 1000):\n",
    "    for b in primes_under_1000:\n",
    "        if checkConsecPrimes(a,b) > highestConsecPrimes:\n",
    "            highestConsecPrimes = checkConsecPrimes(a, b)\n",
    "            highestA = a\n",
    "            highestB = b\n",
    "\n",
    "print (\"a is {}.\".format(highestA))\n",
    "print (\"b is {}.\".format(highestB))\n",
    "print (\"These a and b yield {} consecutive primes.\".format(highestConsecPrimes))\n",
    "print (\"a*b is {}\".format(highestA*highestB))"
   ]
  },
  {
   "cell_type": "code",
   "execution_count": null,
   "metadata": {
    "collapsed": true
   },
   "outputs": [],
   "source": []
  }
 ],
 "metadata": {
  "kernelspec": {
   "display_name": "Python 3",
   "language": "python",
   "name": "python3"
  },
  "language_info": {
   "codemirror_mode": {
    "name": "ipython",
    "version": 3
   },
   "file_extension": ".py",
   "mimetype": "text/x-python",
   "name": "python",
   "nbconvert_exporter": "python",
   "pygments_lexer": "ipython3",
   "version": "3.6.3"
  }
 },
 "nbformat": 4,
 "nbformat_minor": 2
}
